{
 "cells": [
  {
   "cell_type": "code",
   "execution_count": 10,
   "metadata": {},
   "outputs": [],
   "source": [
    "import json.decoder\n",
    "from utils.enums import LLM\n",
    "from langchain_google_vertexai import VertexAI\n",
    "\n",
    "from google.oauth2 import service_account\n",
    "from google.cloud import aiplatform\n",
    "import vertexai\n",
    "from langchain_google_vertexai import HarmBlockThreshold, HarmCategory\n",
    "import os\n",
    "\n",
    "from dotenv import load_dotenv\n",
    "\n",
    "load_dotenv(override=True)\n",
    "\n",
    "safety_settings = {\n",
    "    HarmCategory.HARM_CATEGORY_UNSPECIFIED: HarmBlockThreshold.BLOCK_NONE,\n",
    "    HarmCategory.HARM_CATEGORY_DANGEROUS_CONTENT: HarmBlockThreshold.BLOCK_NONE,\n",
    "    HarmCategory.HARM_CATEGORY_HATE_SPEECH: HarmBlockThreshold.BLOCK_NONE,\n",
    "    HarmCategory.HARM_CATEGORY_HARASSMENT: HarmBlockThreshold.BLOCK_NONE,\n",
    "    HarmCategory.HARM_CATEGORY_SEXUALLY_EXPLICIT: HarmBlockThreshold.BLOCK_NONE,\n",
    "}\n",
    "\n",
    "\n",
    "GCP_PROJECT = os.getenv(\"GCP_PROJECT\")\n",
    "GCP_REGION = os.getenv(\"GCP_REGION\")\n",
    "GCP_CREDENTIALS = os.getenv(\"GCP_CREDENTIALS\")\n",
    "\n",
    "def init_gemini():\n",
    "    aiplatform.init(\n",
    "        project=GCP_PROJECT,\n",
    "        location=GCP_REGION,\n",
    "        credentials=service_account.Credentials.from_service_account_file(GCP_CREDENTIALS)\n",
    "    )\n",
    "    vertexai.init(project=GCP_PROJECT, location=GCP_REGION, credentials=service_account.Credentials.from_service_account_file(GCP_CREDENTIALS))\n",
    "\n",
    "init_gemini()\n",
    "\n",
    "llm = VertexAI(\n",
    "    model=\"gemini-1.5-pro\",\n",
    "    temperature=0,\n",
    "    safety_settings=safety_settings\n",
    ")"
   ]
  },
  {
   "cell_type": "code",
   "execution_count": null,
   "metadata": {},
   "outputs": [],
   "source": [
    "prompt_path = \"schema_extraction.txt\"\n",
    "\n",
    "with open(prompt_path, \"r\") as f:\n",
    "    prompt_template = f.read()\n",
    "prompt_template"
   ]
  },
  {
   "cell_type": "code",
   "execution_count": 12,
   "metadata": {},
   "outputs": [],
   "source": [
    "data_path = \"preprocessed_data/spider2-lite/spider2-lite_preprocessed.json\"\n",
    "import json\n",
    "\n",
    "with open(data_path, \"r\") as f:\n",
    "    data = json.load(f)"
   ]
  },
  {
   "cell_type": "code",
   "execution_count": null,
   "metadata": {},
   "outputs": [],
   "source": [
    "schemas = {}\n",
    "\n",
    "for i, entry in enumerate(data):\n",
    "    query = entry[\"query\"].replace(\"\\n\", \" \")\n",
    "    \n",
    "    message = prompt_template.format(SQL_QUERY=query)\n",
    "    response = llm.invoke(message)\n",
    "    try:\n",
    "        if \"```json\" in response:\n",
    "            response = response.split(\"```json\")[1]\n",
    "            response = response.split(\"```\")[0]\n",
    "            response = json.loads(response)\n",
    "            schemas[i] = {\n",
    "                \"query\": query,\n",
    "                \"schema\": response[\"schema\"]\n",
    "            }\n",
    "    except Exception as e:\n",
    "        schemas[i] = {\n",
    "            \"query\": query,\n",
    "            \"schema\": None,\n",
    "            \"error\": str(e)\n",
    "        }"
   ]
  },
  {
   "cell_type": "code",
   "execution_count": null,
   "metadata": {},
   "outputs": [],
   "source": []
  }
 ],
 "metadata": {
  "kernelspec": {
   "display_name": ".venv",
   "language": "python",
   "name": "python3"
  },
  "language_info": {
   "codemirror_mode": {
    "name": "ipython",
    "version": 3
   },
   "file_extension": ".py",
   "mimetype": "text/x-python",
   "name": "python",
   "nbconvert_exporter": "python",
   "pygments_lexer": "ipython3",
   "version": "3.10.15"
  }
 },
 "nbformat": 4,
 "nbformat_minor": 2
}
